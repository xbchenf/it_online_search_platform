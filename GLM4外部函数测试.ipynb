{
 "cells": [
  {
   "cell_type": "markdown",
   "id": "d3ff15bd-20b3-446c-9bf0-37866e2ce7d3",
   "metadata": {
    "tags": []
   },
   "source": [
    "GLM4的key的获取方式：https://e.naixuejiaoyu.com/p/t_pc/course_pc_detail/video/v_65dec9c6e4b064a8e8dee96b?product_id=p_65ba2d84e4b064a83b911697&content_app_id=&type=6"
   ]
  },
  {
   "cell_type": "code",
   "execution_count": 1,
   "id": "5d0b263a",
   "metadata": {},
   "outputs": [],
   "source": [
    "import os\n",
    "import openai\n",
    "from openai import OpenAI\n",
    "import shutil\n",
    "\n",
    "import numpy as np\n",
    "import pandas as pd\n",
    "\n",
    "import json\n",
    "import io\n",
    "import inspect\n",
    "import requests\n",
    "import re\n",
    "import random\n",
    "import string\n",
    "\n",
    "## 初始化客户端\n",
    "api_key = os.getenv(\"ZHIPU_API_KEY\")\n",
    "\n",
    "## pip install zhipuai\n",
    "\n",
    "from zhipuai import ZhipuAI\n",
    "client = ZhipuAI(api_key=api_key)"
   ]
  },
  {
   "cell_type": "code",
   "execution_count": 2,
   "id": "402a0d67-5f91-4516-94c6-6bb6658afbf6",
   "metadata": {
    "tags": []
   },
   "outputs": [],
   "source": [
    "def sunwukong_function(data):\n",
    "    \"\"\"\n",
    "    孙悟空算法函数，该函数定义了数据集计算过程\n",
    "    :param data: 必要参数，表示带入计算的数据表，用字符串进行表示\n",
    "    :return：sunwukong_function函数计算后的结果，返回结果为表示为JSON格式的Dataframe类型对象\n",
    "    \"\"\"\n",
    "    data = io.StringIO(data)\n",
    "    df_new = pd.read_csv(data, sep='\\s+', index_col=0)\n",
    "    res = df_new * 10\n",
    "    return json.dumps(res.to_string())"
   ]
  },
  {
   "cell_type": "code",
   "execution_count": 3,
   "id": "bd29a3e5-b16e-4675-966d-feda45d4c9ec",
   "metadata": {
    "tags": []
   },
   "outputs": [],
   "source": [
    "def auto_functions(functions_list):\n",
    "    \"\"\"\n",
    "    Chat模型的functions参数编写函数\n",
    "    :param functions_list: 包含一个或者多个函数对象的列表；\n",
    "    :return：满足Chat模型functions参数要求的functions对象\n",
    "    \"\"\"\n",
    "    def functions_generate(functions_list):\n",
    "        # 创建空列表，用于保存每个函数的描述字典\n",
    "        functions = []\n",
    "        # 对每个外部函数进行循环\n",
    "        for function in functions_list:\n",
    "            # 读取函数对象的函数说明\n",
    "            function_description = inspect.getdoc(function)\n",
    "            # 读取函数的函数名字符串\n",
    "            function_name = function.__name__\n",
    "\n",
    "            system_prompt = '以下是某的函数说明：%s,输出结果必须是一个JSON格式的字典，只输出这个字典即可，前后不需要任何前后修饰或说明的语句' % function_description\n",
    "            user_prompt = '根据这个函数的函数说明，请帮我创建一个JSON格式的字典，这个字典有如下5点要求：\\\n",
    "                           1.字典总共有三个键值对；\\\n",
    "                           2.第一个键值对的Key是字符串name，value是该函数的名字：%s，也是字符串；\\\n",
    "                           3.第二个键值对的Key是字符串description，value是该函数的函数的功能说明，也是字符串；\\\n",
    "                           4.第三个键值对的Key是字符串parameters，value是一个JSON Schema对象，用于说明该函数的参数输入规范。\\\n",
    "                           5.输出结果必须是一个JSON格式的字典，只输出这个字典即可，前后不需要任何前后修饰或说明的语句' % function_name\n",
    "\n",
    "            response = client.chat.completions.create(\n",
    "                              model=\"glm-4\",\n",
    "                              messages=[\n",
    "                                {\"role\": \"system\", \"content\": system_prompt},\n",
    "                                {\"role\": \"user\", \"content\": user_prompt}\n",
    "                              ]\n",
    "                            )\n",
    "            json_str=response.choices[0].message.content.replace(\"```json\",\"\").replace(\"```\",\"\")\n",
    "            json_function_description=json.loads(json_str)\n",
    "            json_str={\"type\": \"function\",\"function\":json_function_description}\n",
    "            functions.append(json_str)\n",
    "        return functions\n",
    "    ## 最大可以尝试4次\n",
    "    max_attempts = 4\n",
    "    attempts = 0\n",
    "\n",
    "    while attempts < max_attempts:\n",
    "        try:\n",
    "            functions = functions_generate(functions_list)\n",
    "            break  # 如果代码成功执行，跳出循环\n",
    "        except Exception as e:\n",
    "            attempts += 1  # 增加尝试次数\n",
    "            print(\"发生错误：\", e)\n",
    "            if attempts == max_attempts:\n",
    "                print(\"已达到最大尝试次数，程序终止。\")\n",
    "                raise  # 重新引发最后一个异常\n",
    "            else:\n",
    "                print(\"正在重新运行...\")\n",
    "    return functions"
   ]
  },
  {
   "cell_type": "code",
   "execution_count": 4,
   "id": "3c9112da-802c-4db0-bd78-757c53b184dc",
   "metadata": {
    "tags": []
   },
   "outputs": [],
   "source": [
    "def run_conversation(messages, functions_list=None, model=\"glm-4\"):\n",
    "    \"\"\"\n",
    "    能够自动执行外部函数调用的对话模型\n",
    "    :param messages: 必要参数，字典类型，输入到Chat模型的messages参数对象\n",
    "    :param functions_list: 可选参数，默认为None，可以设置为包含全部外部函数的列表对象\n",
    "    :param model: Chat模型，可选参数，默认模型为glm-4\n",
    "    :return：Chat模型输出结果\n",
    "    \"\"\"\n",
    "    # 如果没有外部函数库，则执行普通的对话任务\n",
    "    if functions_list == None:\n",
    "        response = client.chat.completions.create(\n",
    "                        model=model,\n",
    "                        messages=messages,\n",
    "                        )\n",
    "        response_message = response.choices[0].message\n",
    "        final_response = response_message.content\n",
    "        \n",
    "    # 若存在外部函数库，则需要灵活选取外部函数并进行回答\n",
    "    else:\n",
    "        # 创建functions对象\n",
    "        tools = auto_functions(functions_list)\n",
    "\n",
    "        # 创建外部函数库字典\n",
    "        available_functions = {func.__name__: func for func in functions_list}\n",
    "\n",
    "        # 第一次调用大模型\n",
    "        response = client.chat.completions.create(\n",
    "                        model=model,\n",
    "                        messages=messages,\n",
    "                        tools=tools,\n",
    "                        tool_choice=\"auto\", )\n",
    "        response_message = response.choices[0].message\n",
    "\n",
    "\n",
    "        tool_calls = response_message.tool_calls\n",
    "\n",
    "        if tool_calls:\n",
    "\n",
    "            #messages.append(response.choices[0].message)\n",
    "            messages.append(response.choices[0].message.model_dump())\n",
    "            for tool_call in tool_calls:\n",
    "                function_name = tool_call.function.name\n",
    "                function_to_call = available_functions[function_name]\n",
    "                function_args = json.loads(tool_call.function.arguments)\n",
    "                ## 真正执行外部函数的就是这儿的代码\n",
    "                function_response = function_to_call(**function_args)\n",
    "                messages.append(\n",
    "                    {\n",
    "                        \"role\": \"tool\",\n",
    "                        \"content\": function_response,\n",
    "                        \"tool_call_id\": tool_call.id,\n",
    "                    }\n",
    "                ) \n",
    "            ## 第二次调用模型\n",
    "            second_response = client.chat.completions.create(\n",
    "                model=model,\n",
    "                messages=messages,\n",
    "                tools=tools\n",
    "            ) \n",
    "            # 获取最终结果\n",
    "            print(second_response.choices[0].message)\n",
    "            final_response = second_response.choices[0].message.content\n",
    "        else:\n",
    "            final_response = response_message.content\n",
    "                \n",
    "    return final_response"
   ]
  },
  {
   "cell_type": "code",
   "execution_count": 5,
   "id": "59079e40-47a2-4c99-9dd8-a21d76754bb3",
   "metadata": {
    "tags": []
   },
   "outputs": [],
   "source": [
    "# 创建一个DataFrame\n",
    "df = pd.DataFrame({'x1':[1, 2], 'x2':[3, 4]})\n",
    "\n",
    "df_str = df.to_string()"
   ]
  },
  {
   "cell_type": "code",
   "execution_count": 6,
   "id": "303a23f4-e957-4ee1-8e88-fa32058b4384",
   "metadata": {
    "tags": []
   },
   "outputs": [],
   "source": [
    "messages=[\n",
    "    {\"role\": \"system\", \"content\": \"数据集data：%s，数据集以字符串形式呈现\" % df_str},\n",
    "    {\"role\": \"user\", \"content\": \"请在数据集data上执行孙悟空算法函数\"}\n",
    "]"
   ]
  },
  {
   "cell_type": "code",
   "execution_count": 7,
   "id": "d4558d57-1580-4686-96ad-49cac940d01d",
   "metadata": {
    "tags": []
   },
   "outputs": [],
   "source": [
    "functions_list=[sunwukong_function]"
   ]
  },
  {
   "cell_type": "code",
   "execution_count": 8,
   "id": "12e7f68a-f48b-4605-9a09-91b08af3c009",
   "metadata": {
    "tags": []
   },
   "outputs": [
    {
     "name": "stdout",
     "output_type": "stream",
     "text": [
      "CompletionMessage(content='根据孙悟空算法函数处理后的数据集data，我们可以看到每一行的x1和x2值都乘以了10。具体来说，第一行的x1从1变成了10，x2从3变成了30；第二行的x1从2变成了20，x2从4变成了40。这是孙悟空算法函数对输入数据集进行的计算处理。', role='assistant', tool_calls=None)\n",
      "根据孙悟空算法函数处理后的数据集data，我们可以看到每一行的x1和x2值都乘以了10。具体来说，第一行的x1从1变成了10，x2从3变成了30；第二行的x1从2变成了20，x2从4变成了40。这是孙悟空算法函数对输入数据集进行的计算处理。\n"
     ]
    }
   ],
   "source": [
    "result = run_conversation(messages, functions_list=functions_list, model=\"glm-4\")\n",
    "print(result)"
   ]
  },
  {
   "cell_type": "code",
   "execution_count": 9,
   "id": "f44e3adb-c6c7-4e1a-977a-363a4c5675ec",
   "metadata": {
    "tags": []
   },
   "outputs": [],
   "source": [
    "def chat_with_model(functions_list=None, \n",
    "                    prompt=\"你好\", \n",
    "                    model=\"glm-4\", \n",
    "                    system_message=[{\"role\": \"system\", \"content\": \"你是小智助手。\"}]):\n",
    "    \n",
    "    messages = system_message\n",
    "    messages.append({\"role\": \"user\", \"content\": prompt})\n",
    "    \n",
    "    while True:           \n",
    "        answer = run_conversation(messages=messages, \n",
    "                                    functions_list=functions_list, \n",
    "                                    model=model)\n",
    "        \n",
    "        print(f\"智能助手回答: {answer}\")\n",
    "        \n",
    "        \n",
    "        # 询问用户是否还有其他问题\n",
    "        user_input = input(\"您还有其他问题吗？(输入退出以结束对话): \")\n",
    "        if user_input == \"退出\":\n",
    "            break\n",
    "\n",
    "        # 记录用户回答\n",
    "        messages.append({\"role\": \"user\", \"content\": user_input})"
   ]
  },
  {
   "cell_type": "code",
   "execution_count": 10,
   "id": "c8a7e13e-21f2-47c3-9e72-80c1d8c305ad",
   "metadata": {
    "tags": []
   },
   "outputs": [],
   "source": [
    "functions_list=[sunwukong_function]"
   ]
  },
  {
   "cell_type": "code",
   "execution_count": 11,
   "id": "fb9864dd-d630-4e7a-8917-54330470222e",
   "metadata": {
    "tags": []
   },
   "outputs": [
    {
     "name": "stdout",
     "output_type": "stream",
     "text": [
      "智能助手回答: 有什么可以帮助你的吗？\n",
      "智能助手回答: 有什么我可以帮助你的吗？如果你有任何问题或需要帮助，随时告诉我。\n",
      "智能助手回答: 当前年份是2023年。有什么我可以帮助你的吗？\n",
      "智能助手回答: 今天是2023年11月4日。\n",
      "智能助手回答: AIGC（AI-Generated Content）是指由人工智能生成的 content，可以理解为利用人工智能技术来生成文本、图片、音频、视频等各种各样的内容。AIGC 在很多领域都有广泛的应用，例如：新闻写作、视频制作、音乐创作、艺术创作等等。\n"
     ]
    }
   ],
   "source": [
    "chat_with_model(functions_list,prompt=\"你好\")"
   ]
  },
  {
   "cell_type": "code",
   "execution_count": null,
   "id": "9bcd9b8d-5933-43a6-8dc5-9678d6edcbc2",
   "metadata": {},
   "outputs": [],
   "source": []
  },
  {
   "cell_type": "code",
   "execution_count": 89,
   "id": "b526249c-3a3a-4917-b9ad-0717e9ef1810",
   "metadata": {
    "tags": []
   },
   "outputs": [],
   "source": []
  },
  {
   "cell_type": "code",
   "execution_count": null,
   "id": "c8f09428-b25b-4f28-ac18-6b3ac968e820",
   "metadata": {},
   "outputs": [],
   "source": []
  }
 ],
 "metadata": {
  "kernelspec": {
   "display_name": "Python 3 (ipykernel)",
   "language": "python",
   "name": "python3"
  },
  "language_info": {
   "codemirror_mode": {
    "name": "ipython",
    "version": 3
   },
   "file_extension": ".py",
   "mimetype": "text/x-python",
   "name": "python",
   "nbconvert_exporter": "python",
   "pygments_lexer": "ipython3",
   "version": "3.11.5"
  }
 },
 "nbformat": 4,
 "nbformat_minor": 5
}
